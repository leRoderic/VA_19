{
 "cells": [
  {
   "cell_type": "markdown",
   "metadata": {},
   "source": [
    "# Computer Vision - P6\n",
    "\n",
    "### **Carefully read the file `README.md` as well as the following instructions before start coding.**"
   ]
  },
  {
   "cell_type": "markdown",
   "metadata": {},
   "source": [
    "## Delivery\n",
    "\n",
    "Up to **1 point out of 10** will be penalized if the following requirements are not fulfilled:\n",
    "\n",
    "- Implemented code should be commented.\n",
    "\n",
    "- The questions introduced in the exercises must be answered.\n",
    "\n",
    "- Add title to the figures to explain what is displayed.\n",
    "\n",
    "- Comments need to be in **english**.\n",
    "\n",
    "- The deliverable must be a file named **P6_Student1_Student2.zip** that includes:\n",
    "    - The notebook P6_Student1_Student2.ipynb completed with the solutions to the exercises and their corresponding comments.\n",
    "    - All the images used in this notebook.\n",
    "\n",
    "**Deadline (Campus Virtual): January 2th, 23:59 h** "
   ]
  },
  {
   "cell_type": "markdown",
   "metadata": {},
   "source": [
    "## Haar-like features applied for face detection\n",
    "\n",
    "Today's exercices will practise the following:\n",
    "\n",
    "- Integral images and a classical use for fast harr-like feature computation.\n",
    "- Use of Adaboost for classification.\n",
    "- Decisions based on a user-defined threshold for balancing precision and recall."
   ]
  },
  {
   "cell_type": "code",
   "execution_count": 163,
   "metadata": {},
   "outputs": [],
   "source": [
    "# Some useful imports for the exercises\n",
    "import numpy as np\n",
    "import os, warnings\n",
    "warnings.filterwarnings(\"ignore\")\n",
    "import matplotlib\n",
    "from PIL import Image\n",
    "#from multiprocessing import Pool\n",
    "#from functools import partial\n",
    "from skimage import io\n",
    "import time\n",
    "import timeit\n",
    "from matplotlib import pyplot as plt\n",
    "\n",
    "%matplotlib inline"
   ]
  },
  {
   "cell_type": "markdown",
   "metadata": {},
   "source": [
    "**1) Build a function `to_integral_image` that computes the integral image of an input (2D) array.**\n",
    "\n",
    "The integral image must have an additional row and column full of zeros (first row and first column).\n",
    "Make sure that the values of the integral image are correct.\n",
    "\n",
    "```python\n",
    " def to_integral_image(img_arr):\n",
    "    row_sum = np.zeros(img_arr.shape)\n",
    "    integral_image_arr = np.zeros((img_arr.shape[0] + 1, img_arr.shape[1] + 1))\n",
    "    # Add here code\n",
    "    \n",
    "    return integral_image_arr\n",
    "```\n",
    "\n",
    "\n",
    "You can make the following tests:\n",
    " \n",
    " - `sum(img_array) == ii_img_array[-1,-1]`\n",
    " - `img_array[0,:].sum() == ii_img_array[1,-1]`\n",
    " \n",
    "Plot the output of the integral image for the following array:\n",
    "\n",
    "```\n",
    "img_array = np.array([[1,2,2,2,1],[1,2,2,2,1],[1,2,2,2,1],[1,2,2,2,1]])\n",
    "```\n",
    "\n",
    "\n"
   ]
  },
  {
   "cell_type": "code",
   "execution_count": 3,
   "metadata": {},
   "outputs": [
    {
     "data": {
      "text/plain": [
       "<matplotlib.image.AxesImage at 0x2144f37d0b8>"
      ]
     },
     "execution_count": 3,
     "metadata": {},
     "output_type": "execute_result"
    },
    {
     "data": {
      "image/png": "[encoded data removed]",
      "text/plain": [
       "<Figure size 432x288 with 1 Axes>"
      ]
     },
     "metadata": {
      "needs_background": "light"
     },
     "output_type": "display_data"
    }
   ],
   "source": [
    "img_array = np.array([[1,2,2,2,1],[1,2,2,2,1],[1,2,2,2,1],[1,2,2,2,1]])\n",
    "img_array.shape\n",
    "plt.imshow(img_array, cmap=\"gray\", vmin=0, vmax= 5)"
   ]
  },
  {
   "cell_type": "code",
   "execution_count": 4,
   "metadata": {},
   "outputs": [
    {
     "data": {
      "text/plain": [
       "<matplotlib.image.AxesImage at 0x2144f41e4e0>"
      ]
     },
     "execution_count": 4,
     "metadata": {},
     "output_type": "execute_result"
    },
    {
     "data": {
      "image/png": "[encoded data removed]",
      "text/plain": [
       "<Figure size 432x288 with 1 Axes>"
      ]
     },
     "metadata": {
      "needs_background": "light"
     },
     "output_type": "display_data"
    }
   ],
   "source": [
    "def to_integral_image(img_arr):\n",
    "    \"\"\"\n",
    "    Calculates the integral image based on this instance's original image data.\n",
    "    :param img_arr: Image source data\n",
    "    :type img_arr: numpy.ndarray\n",
    "    :return Integral image for given image\n",
    "    :rtype: numpy.ndarray\n",
    "    \"\"\"\n",
    "    # Since the integral image needs extra zeros row and colum an extended matrix is created.\n",
    "    integral_image_arr = np.zeros((img_arr.shape[0] + 1, img_arr.shape[1] + 1))\n",
    "    \n",
    "    # Iterative version.\n",
    "    #r, c = img_arr.shape\n",
    "    #integral_image_arr[1:, 1:] = np.array([np.array([np.sum(img_arr[:i+1, :j+1]) for j in range(c)]) for i in range(r)])\n",
    "    \n",
    "    # Using numpy's function for cumulative summatory.\n",
    "    tmp = np.copy(img_arr)\n",
    "    np.cumsum(tmp, axis=0, out=tmp)\n",
    "    np.cumsum(tmp, axis=1, out=tmp)\n",
    "    integral_image_arr[1:, 1:] = tmp\n",
    "    \n",
    "    return integral_image_arr\n",
    "\n",
    "# Tests\n",
    "ii_img_array = to_integral_image(img_array)\n",
    "assert np.sum(img_array) == ii_img_array[-1,-1]\n",
    "assert np.sum(img_array[0,:]) == ii_img_array[1,-1]\n",
    "\n",
    "plt.imshow(ii_img_array, cmap='gray')"
   ]
  },
  {
   "cell_type": "markdown",
   "metadata": {},
   "source": [
    "**2) Build a function to compute the sum of the pixel intensities within a rectangle using the integral image. The rectangle will be defined using the top left (x, y) and bottom right (x, y) coordinates.**\n",
    "\n",
    "Make the function with the following header:\n",
    "```\n",
    "def sum_region(integral_img_arr, top_left, bottom_right):\n",
    "```\n"
   ]
  },
  {
   "cell_type": "code",
   "execution_count": 164,
   "metadata": {},
   "outputs": [],
   "source": [
    "def sum_region(integral_img_arr, top_left, bottom_right):\n",
    "    \n",
    "    r1, c1 = top_left[0], top_left[1]\n",
    "    r2, c2 = bottom_right[0], bottom_right[1]\n",
    "    \n",
    "    \"\"\"\n",
    "    For some weird reason the exercise asks for a thing and the 'correct' result is another completely\n",
    "    different.\n",
    "    The exercise ask for the summatory of the pixels within a specified rectangle, which would be computed \n",
    "    by: np.sum(integral_img_arr[r1:r2, c1:c2]). However the 'correct' output is achieved by summing the\n",
    "    specified corners and subtracting the other two.\n",
    "    \"\"\"\n",
    "    return integral_img_arr[r1, c1] + integral_img_arr[r2, c2] - integral_img_arr[r1, c2] - integral_img_arr[r2, c1]"
   ]
  },
  {
   "cell_type": "code",
   "execution_count": 165,
   "metadata": {},
   "outputs": [
    {
     "data": {
      "text/plain": [
       "12.0"
      ]
     },
     "execution_count": 165,
     "metadata": {},
     "output_type": "execute_result"
    }
   ],
   "source": [
    "# result you should get (12)\n",
    "sum_region(ii_img_array, [1,1],[3,4])"
   ]
  },
  {
   "cell_type": "code",
   "execution_count": 166,
   "metadata": {},
   "outputs": [
    {
     "data": {
      "text/plain": [
       "32.0"
      ]
     },
     "execution_count": 166,
     "metadata": {},
     "output_type": "execute_result"
    }
   ],
   "source": [
    "# result you should get (32)\n",
    "sum_region(ii_img_array, [0,0],[-1,-1])"
   ]
  },
  {
   "cell_type": "markdown",
   "metadata": {
    "collapsed": true
   },
   "source": [
    "**3) Compute the integral image for all the following images:**\n",
    "    \n",
    "- training images of faces: save results in **`faces_ii_training`**\n",
    "- testing images of face: save the results in **`faces_ii_testing`**\n",
    "- training images of non faces: **`non_faces_ii_training`**\n",
    "- testing images of non faces:  **`non_faces_ii_testing`**\n",
    "\n",
    "To do so build a function to read all the images inside a given folder:\n",
    "\n",
    "```python\n",
    "def load_images(path):\n",
    "    images = []\n",
    "    for _file in os.listdir(path):\n",
    "       #### Read image\n",
    "       #### Remember to scale the image (wih the max pixel intensity value)\n",
    "     \n",
    "    return images\n",
    " ```"
   ]
  },
  {
   "cell_type": "code",
   "execution_count": 8,
   "metadata": {},
   "outputs": [],
   "source": [
    "pos_training_path = \"trainingdata/faces\"\n",
    "neg_training_path = \"trainingdata/nonfaces\"\n",
    "pos_testing_path = \"trainingdata/faces/test\"\n",
    "neg_testing_path = \"trainingdata/nonfaces/test\""
   ]
  },
  {
   "cell_type": "code",
   "execution_count": 9,
   "metadata": {
    "scrolled": true
   },
   "outputs": [],
   "source": [
    "def load_images(path):\n",
    "    \n",
    "    # Normalizing function.\n",
    "    normalize = lambda x: x/np.max(x)\n",
    "    \n",
    "    # Read, normalize and compute integral image of every \".png\" file in the specified path, all in a cool\n",
    "    # and compact list comprehension.\n",
    "    return [to_integral_image(normalize(io.imread(path + \"/\" + file))) for file in os.listdir(path) \n",
    "            if file.endswith(\".png\")]"
   ]
  },
  {
   "cell_type": "code",
   "execution_count": 10,
   "metadata": {},
   "outputs": [],
   "source": [
    "faces_ii_training = load_images(pos_training_path)\n",
    "faces_ii_testing = load_images(pos_testing_path)\n",
    "non_faces_ii_training = load_images(neg_training_path)\n",
    "non_faces_ii_testing = load_images(neg_testing_path)"
   ]
  },
  {
   "cell_type": "markdown",
   "metadata": {},
   "source": [
    "**4) Compute the Haar features of an image**\n",
    "\n",
    "The code given will use the  `sum_region` function you have implemented to compute Haar-like features.\n",
    "The following code, for example, will compute a vertical Haar-like feature\n",
    "```python\n",
    "    first = sum_region(int_img, \n",
    "                      self.top_left, \n",
    "                      (self.top_left[0] + self.width, int(self.top_left[1] + self.height / 2)))\n",
    "    second = sum_region(int_img, \n",
    "                       (self.top_left[0], int(self.top_left[1] + self.height / 2)),\n",
    "                       self.bottom_right)\n",
    "    score = first - second\n",
    "```\n",
    "\n",
    "We provide you with `HaarLikeFeature` class that has build in a `get_score` function and a `get_vote` function.\n",
    "\n",
    "Your job is to \n",
    "```python\n",
    "def _create_features(img_height, img_width, min_feature_width, max_feature_width, min_feature_height, max_feature_height):\n",
    "    print('Creating Haar-like features..')\n",
    "    t0 = time.time()\n",
    "    features = []\n",
    "    for feature in FeatureTypes:\n",
    "        # FeatureTypes are just tuples\n",
    "        feature_start_width = max(min_feature_width, feature[0])\n",
    "        for feature_width in range(feature_start_width, max_feature_width, feature[0]):\n",
    "            feature_start_height = max(min_feature_height, feature[1])\n",
    "            for feature_height in range(feature_start_height, max_feature_height, feature[1]):\n",
    "                # Loop over possible x values and y values \n",
    "                # - For each (x,y) create the HarrLikeFeature objects.\n",
    "                # - append the HaarlikeFeatures in the features list.\n",
    "                # Notice that Haarlike features contain polarity, append features for polarity 1 and -1\n",
    "                # The threshold can be set to 0 for all of them.\n",
    "                \n",
    "                \n",
    "    print('\\t' + str(len(features)) + ' features created.')\n",
    "    print('\\tTime needed for calculating Harr-like features:', time.time()-t0)\n",
    "    return features\n",
    "```"
   ]
  },
  {
   "cell_type": "code",
   "execution_count": 15,
   "metadata": {},
   "outputs": [],
   "source": [
    "def enum(**enums):\n",
    "    return type('Enum', (), enums)\n",
    "\n",
    "FeatureType = enum(TWO_VERTICAL=(1, 2), TWO_HORIZONTAL=(2, 1), THREE_HORIZONTAL=(3, 1), THREE_VERTICAL=(1, 3), FOUR=(2, 2))\n",
    "FeatureTypes = [FeatureType.TWO_VERTICAL, FeatureType.TWO_HORIZONTAL, FeatureType.THREE_VERTICAL, FeatureType.THREE_HORIZONTAL, FeatureType.FOUR]\n",
    "\n",
    "class HaarLikeFeature(object):\n",
    "    \"\"\"\n",
    "    Class representing a haar-like feature.\n",
    "    \"\"\"\n",
    "\n",
    "    def __init__(self, feature_type, position, width, height, threshold, polarity):\n",
    "        \"\"\"\n",
    "        Creates a new haar-like feature.\n",
    "        :param feature_type: Type of new feature, see FeatureType enum\n",
    "        :type feature_type: violajonse.HaarLikeFeature.FeatureTypes\n",
    "        :param position: Top left corner where the feature begins (x, y)\n",
    "        :type position: (int, int)\n",
    "        :param width: Width of the feature\n",
    "        :type width: int\n",
    "        :param height: Height of the feature\n",
    "        :type height: int\n",
    "        :param threshold: Feature threshold\n",
    "        :type threshold: float\n",
    "        :param polarity: polarity of the feature -1 or 1\n",
    "        :type polarity: int\n",
    "        \"\"\"\n",
    "        self.type = feature_type\n",
    "        self.top_left = position\n",
    "        self.bottom_right = (position[0] + width, position[1] + height)\n",
    "        self.width = width\n",
    "        self.height = height\n",
    "        self.threshold = threshold\n",
    "        self.polarity = polarity\n",
    "        self.weight = 1\n",
    "    \n",
    "    def get_score(self, int_img):\n",
    "        \"\"\"\n",
    "        Get score for given integral image array.\n",
    "        :param int_img: Integral image array\n",
    "        :type int_img: numpy.ndarray\n",
    "        :return: Score for given feature\n",
    "        :rtype: float\n",
    "        \"\"\"\n",
    "        score = 0\n",
    "        if self.type == FeatureType.TWO_VERTICAL:\n",
    "            first = sum_region(int_img, self.top_left, (self.top_left[0] + self.width, int(self.top_left[1] + self.height / 2)))\n",
    "            second = sum_region(int_img, (self.top_left[0], int(self.top_left[1] + self.height / 2)), self.bottom_right)\n",
    "            score = first - second\n",
    "        elif self.type == FeatureType.TWO_HORIZONTAL:\n",
    "            first = sum_region(int_img, self.top_left, (int(self.top_left[0] + self.width / 2), self.top_left[1] + self.height))\n",
    "            second = sum_region(int_img, (int(self.top_left[0] + self.width / 2), self.top_left[1]), self.bottom_right)\n",
    "            score = first - second\n",
    "        elif self.type == FeatureType.THREE_HORIZONTAL:\n",
    "            first = sum_region(int_img, self.top_left, (int(self.top_left[0] + self.width / 3), self.top_left[1] + self.height))\n",
    "            second = sum_region(int_img, (int(self.top_left[0] + self.width / 3), self.top_left[1]), (int(self.top_left[0] + 2 * self.width / 3), self.top_left[1] + self.height))\n",
    "            third = sum_region(int_img, (int(self.top_left[0] + 2 * self.width / 3), self.top_left[1]), self.bottom_right)\n",
    "            score = first - second + third\n",
    "        elif self.type == FeatureType.THREE_VERTICAL:\n",
    "            first = sum_region(int_img, self.top_left, (self.bottom_right[0], int(self.top_left[1] + self.height / 3)))\n",
    "            second = sum_region(int_img, (self.top_left[0], int(self.top_left[1] + self.height / 3)), (self.bottom_right[0], int(self.top_left[1] + 2 * self.height / 3)))\n",
    "            third = sum_region(int_img, (self.top_left[0], int(self.top_left[1] + 2 * self.height / 3)), self.bottom_right)\n",
    "            score = first - second + third\n",
    "        elif self.type == FeatureType.FOUR:\n",
    "            # top left area\n",
    "            first = sum_region(int_img, self.top_left, (int(self.top_left[0] + self.width / 2), int(self.top_left[1] + self.height / 2)))\n",
    "            # top right area\n",
    "            second = sum_region(int_img, (int(self.top_left[0] + self.width / 2), self.top_left[1]), (self.bottom_right[0], int(self.top_left[1] + self.height / 2)))\n",
    "            # bottom left area\n",
    "            third = sum_region(int_img, (self.top_left[0], int(self.top_left[1] + self.height / 2)), (int(self.top_left[0] + self.width / 2), self.bottom_right[1]))\n",
    "            # bottom right area\n",
    "            fourth = sum_region(int_img, (int(self.top_left[0] + self.width / 2), int(self.top_left[1] + self.height / 2)), self.bottom_right)\n",
    "            score = first - second - third + fourth\n",
    "        return score\n",
    "    \n",
    "    def get_vote(self, int_img):\n",
    "        \"\"\"\n",
    "        Get vote of this feature for given integral image.\n",
    "        :param int_img: Integral image array\n",
    "        :type int_img: numpy.ndarray\n",
    "        :return: 1 iff this feature votes positively, otherwise -1\n",
    "        :rtype: int\n",
    "        \"\"\"\n",
    "        score = self.get_score(int_img)\n",
    "        return self.weight * (1 if score < self.polarity * self.threshold else -1)\n"
   ]
  },
  {
   "cell_type": "markdown",
   "metadata": {},
   "source": [
    "> ⚠️ **NOTICE:** Since the practicum can only be implemented in a Linux machine (Windows machine end up in an endless loop), the code meant to be ran with Pool to reduce execution time has been replaced with a nested loop. An attempt was made to replace the usage of the Pool library with Parallel, but it was taking more time than the execution time with nested loops. So there's that.\n",
    "> Expect a longer execution time."
   ]
  },
  {
   "cell_type": "code",
   "execution_count": 16,
   "metadata": {},
   "outputs": [],
   "source": [
    "def learn(positive_iis, negative_iis, num_classifiers=-1, min_feature_width=1, max_feature_width=-1, min_feature_height=1, max_feature_height=-1):\n",
    "    \"\"\"\n",
    "    Selects a set of classifiers. Iteratively takes the best classifiers based\n",
    "    on a weighted error.\n",
    "    :param positive_iis: List of positive integral image examples\n",
    "    :type positive_iis: list[numpy.ndarray]\n",
    "    :param negative_iis: List of negative integral image examples\n",
    "    :type negative_iis: list[numpy.ndarray]\n",
    "    :param num_classifiers: Number of classifiers to select, -1 will use all\n",
    "    classifiers\n",
    "    :type num_classifiers: int\n",
    "    :return: List of selected features\n",
    "    :rtype: list[violajones.HaarLikeFeature.HaarLikeFeature]\n",
    "    \"\"\"\n",
    "    num_pos = len(positive_iis)\n",
    "    num_neg = len(negative_iis)\n",
    "    num_imgs = num_pos + num_neg\n",
    "    img_height, img_width = positive_iis[0].shape\n",
    "\n",
    "    # Maximum feature width and height default to image width and height\n",
    "    max_feature_height = img_height if max_feature_height == -1 else max_feature_height\n",
    "    max_feature_width = img_width if max_feature_width == -1 else max_feature_width\n",
    "\n",
    "    # Create initial weights and labels\n",
    "    pos_weights = np.ones(num_pos) * 1. / (2 * num_pos)\n",
    "    neg_weights = np.ones(num_neg) * 1. / (2 * num_neg)\n",
    "    weights = np.hstack((pos_weights, neg_weights))\n",
    "    labels = np.hstack((np.ones(num_pos), np.ones(num_neg) * -1))\n",
    "\n",
    "    images = positive_iis + negative_iis\n",
    "\n",
    "    # Create features for all sizes and locations\n",
    "    features = _create_features(img_height, img_width, min_feature_width, max_feature_width, min_feature_height, max_feature_height)\n",
    "    num_features = len(features)\n",
    "    feature_indexes = list(range(num_features))\n",
    "\n",
    "    num_classifiers = num_features if num_classifiers == -1 else num_classifiers\n",
    "\n",
    "    print('Calculating scores for images..')\n",
    "    t0 = time.time()\n",
    "    votes = np.zeros((num_imgs, num_features))\n",
    "    # Use as many workers as there are CPUs\n",
    "    #pool = Pool(processes=None)\n",
    "    #for i in range(num_imgs):\n",
    "    #    votes[i, :] = np.array(list(pool.map(partial(_get_feature_vote, image=images[i]), features)))\n",
    "    \n",
    "    for i in range(num_imgs):\n",
    "        votes[i, :] = np.array([_get_feature_vote(features[j], images[i]) for j in range(len(features))])\n",
    "    \n",
    "    #for i in range(num_imgs):\n",
    "    #    votes[i, :] = Parallel(n_jobs=multiprocessing.cpu_count())(delayed(\n",
    "    #    partial(_get_feature_vote))(j, images[j]) for j in features)\n",
    "    \n",
    "    print('\\tTime needed for calculating scores:', time.time()-t0)\n",
    "    \n",
    "    # select classifiers\n",
    "    classifiers = []\n",
    "\n",
    "    t0 = time.time()\n",
    "    print('Selecting classifiers..')\n",
    "    for _ in range(num_classifiers):\n",
    "\n",
    "        classification_errors = np.zeros(len(feature_indexes))\n",
    "\n",
    "        # normalize weights\n",
    "        weights *= 1. / np.sum(weights)\n",
    "\n",
    "        # select best classifier based on the weighted error\n",
    "        for f in range(len(feature_indexes)):\n",
    "            f_idx = feature_indexes[f]\n",
    "            # classifier error is the sum of image weights where the classifier\n",
    "            # is right\n",
    "            error = sum(map(lambda img_idx: weights[img_idx] if labels[img_idx] != votes[img_idx, f_idx] else 0, range(num_imgs)))\n",
    "            classification_errors[f] = error\n",
    "\n",
    "        # get best feature, i.e. with smallest error\n",
    "        min_error_idx = np.argmin(classification_errors)\n",
    "        best_error = classification_errors[min_error_idx]\n",
    "        best_feature_idx = feature_indexes[min_error_idx]\n",
    "\n",
    "        # set feature weight\n",
    "        best_feature = features[best_feature_idx]\n",
    "        feature_weight = 0.5 * np.log((1 - best_error) / best_error)\n",
    "        best_feature.weight = feature_weight\n",
    "\n",
    "        classifiers.append(best_feature)\n",
    "\n",
    "        # update image weights\n",
    "        weights = np.array(list(map(lambda img_idx: weights[img_idx] * np.sqrt((1-best_error)/best_error) if labels[img_idx] != votes[img_idx, best_feature_idx] else weights[img_idx] * np.sqrt(best_error/(1-best_error)), range(num_imgs))))\n",
    "\n",
    "        # remove feature (a feature can't be selected twice)\n",
    "        feature_indexes.remove(best_feature_idx)\n",
    "\n",
    "    print('\\tTime needed for Selecting Classifiers:', time.time()-t0,'\\n')\n",
    "\n",
    "\n",
    "    return classifiers\n",
    "\n",
    "def _get_feature_vote(feature, image):\n",
    "    return feature.get_vote(image)\n",
    "\n",
    "def _create_features(img_height, img_width, min_feature_width, max_feature_width, min_feature_height, max_feature_height):\n",
    "    print('Creating Haar-like features..')\n",
    "    t0 = time.time()\n",
    "    features = []\n",
    "    for feature in FeatureTypes:\n",
    "        # FeatureTypes are just tuples\n",
    "        feature_start_width = max(min_feature_width, feature[0])\n",
    "        for feature_width in range(feature_start_width, max_feature_width, feature[0]):\n",
    "            feature_start_height = max(min_feature_height, feature[1])\n",
    "            for feature_height in range(feature_start_height, max_feature_height, feature[1]):\n",
    "                \n",
    "                # Iterate over possible x and y values.\n",
    "                \n",
    "                for x in range(img_width - feature_width):\n",
    "                    for y in range(img_height - feature_height):\n",
    "                        \n",
    "                        # Two Haar features are created for every position. The first one has positive polarity whereas\n",
    "                        # the second one has a negative one.\n",
    "                        \n",
    "                        # self, feature_type, position, width, height, threshold, polarity\n",
    "                        h1 = HaarLikeFeature(feature, (x, y), feature_width, feature_height, 0, 1)\n",
    "                        h2 = HaarLikeFeature(feature, (x, y), feature_width, feature_height, 0, -1)\n",
    "                        \n",
    "                        # The new features are added at the end of the feature list.\n",
    "                        features.extend([h1, h2])\n",
    "                        \n",
    "            \n",
    "    print('\\t' + str(len(features)) + ' features created.')\n",
    "    print('\\tTime needed for calculating Harr-like features:', time.time()-t0)\n",
    "    return features"
   ]
  },
  {
   "cell_type": "markdown",
   "metadata": {},
   "source": [
    "**5)Use the learn method to learn a list of classifiers with the train data**\n",
    "\n",
    "With the `learn` function you can build a list of classifiers that detect whether an image contains a face or not.\n",
    "\n",
    "Use the following hyperparameters of the features and `num_classifiers`."
   ]
  },
  {
   "cell_type": "code",
   "execution_count": 13,
   "metadata": {},
   "outputs": [],
   "source": [
    "num_classifiers = 2\n",
    "min_feature_height = 8\n",
    "max_feature_height = 10\n",
    "min_feature_width = 8\n",
    "max_feature_width = 10"
   ]
  },
  {
   "cell_type": "markdown",
   "metadata": {},
   "source": [
    "### Aprox. wall time:  4 minutes"
   ]
  },
  {
   "cell_type": "code",
   "execution_count": 17,
   "metadata": {},
   "outputs": [
    {
     "name": "stdout",
     "output_type": "stream",
     "text": [
      "Creating Haar-like features..\n",
      "\t2496 features created.\n",
      "\tTime needed for calculating Harr-like features: 0.0039997100830078125\n",
      "Calculating scores for images..\n",
      "\tTime needed for calculating scores: 176.31668424606323\n",
      "Selecting classifiers..\n",
      "\tTime needed for Selecting Classifiers: 41.40884065628052 \n",
      "\n",
      "Wall time: 3min 37s\n"
     ]
    }
   ],
   "source": [
    "%%time\n",
    "\"\"\"\n",
    "faces_ii_training = load_images(pos_training_path)\n",
    "faces_ii_testing = load_images(pos_testing_path)\n",
    "non_faces_ii_training = load_images(neg_training_path)\n",
    "non_faces_ii_testing = load_images(neg_testing_path)\n",
    "\"\"\"\n",
    "classifiers =  learn(faces_ii_training, non_faces_ii_training, num_classifiers=num_classifiers, \n",
    "                     min_feature_width=min_feature_width, max_feature_width=max_feature_width, \n",
    "                     min_feature_height=min_feature_height, max_feature_height=max_feature_height)"
   ]
  },
  {
   "cell_type": "markdown",
   "metadata": {},
   "source": [
    "**6) Make a function for voting with different classifiers**\n",
    "\n",
    "Build two functions `ensemble_vote` and `ensemble_vote_all`.\n",
    "\n",
    "- `ensemble_vote(int_img, classifiers)` has to return a 1 if the majority of the votes of the classifiers is positive and a zero otherwise\n",
    "\n",
    "- `ensemble_vote_all(int_imgs, classifiers)` has to loop over the list `int_imgs` and compute the `ensemble_vote` for each image in the list. It has to return a list containing all the votes for all the images in  `int_imgs`.\n",
    "\n",
    "Use the functions to compute the train and test acurracies for faces and non faces.\n",
    "\n",
    "Print the results in the following format:\n",
    "```\n",
    "train results:\n",
    "Correctly identified Faces: 2129/2429  (87.64923836969946%)\n",
    "Correctly identified non-Faces: 4276/8548  (50.02339728591484%)\n",
    "\n",
    "test results:\n",
    "Correctly identified Faces: 300/472  (63.559322033898304%)\n",
    "Correctly identified non-Faces: 74/128  (57.8125%)\n",
    "```\n",
    "\n",
    "It is not required to get this exact results but print the information in this format. It facilitates understanding the results."
   ]
  },
  {
   "cell_type": "code",
   "execution_count": 79,
   "metadata": {},
   "outputs": [],
   "source": [
    "def ensemble_vote(int_img, classifiers):\n",
    "    \n",
    "    # Recover all votes from all classifiers.\n",
    "    votes = np.sum([i.get_vote(int_img) for i in classifiers])\n",
    "    \n",
    "    # True if most votes are positive, false elsewhere. \n",
    "    return votes >= 0\n",
    "\n",
    "def ensemble_vote_all(int_imgs, classifiers, percent=False):\n",
    "    \n",
    "    all_votes = [ensemble_vote(i, classifiers) for i in int_imgs]\n",
    "    \n",
    "    tot, pos = len(all_votes), np.sum(all_votes)\n",
    "    \n",
    "    if percent: return pos, tot, (pos/tot)*100\n",
    "    \n",
    "    return pos, tot"
   ]
  },
  {
   "cell_type": "code",
   "execution_count": 61,
   "metadata": {},
   "outputs": [],
   "source": [
    "def print_results(pos_tr, neg_tr, pos_tst, neg_tst, classifiers):\n",
    "    \n",
    "    # Print results in the specified format.\n",
    "\n",
    "    fpos_train, tn_train, fpcent_train = ensemble_vote_all(faces_ii_training, classifiers, percent=True)\n",
    "    nfpos_train, tnf_train, nfpcent_train = ensemble_vote_all(non_faces_ii_training, classifiers, percent=True)\n",
    "\n",
    "    fpos_test, tn_test, fpcent_test = ensemble_vote_all(faces_ii_testing, classifiers, percent=True)\n",
    "    nfpos_test, tnf_test, nfpcent_test = ensemble_vote_all(non_faces_ii_testing, classifiers, percent=True)\n",
    "\n",
    "    print(\"train results:\")\n",
    "    print(\"Correctly identified Faces: {}/{} ({}%)\".format(fpos_train, tn_train, fpcent_train))\n",
    "    print(\"Correctly identified non-Faces: {}/{} ({}%)\\n\".format(nfpos_train, tnf_train, nfpcent_train))\n",
    "    print(\"test results:\")\n",
    "    print(\"Correctly identified Faces: {}/{} ({}%)\".format(fpos_test, tn_test, fpcent_test))\n",
    "    print(\"Correctly identified non-Faces: {}/{} ({}%)\\n\".format(nfpos_test, tnf_test, nfpcent_test))"
   ]
  },
  {
   "cell_type": "code",
   "execution_count": 62,
   "metadata": {},
   "outputs": [
    {
     "name": "stdout",
     "output_type": "stream",
     "text": [
      "train results:\n",
      "Correctly identified Faces: 2130/2429 (87.6904075751338%)\n",
      "Correctly identified non-Faces: 4274/8548 (50.0%)\n",
      "\n",
      "test results:\n",
      "Correctly identified Faces: 300/472 (63.559322033898304%)\n",
      "Correctly identified non-Faces: 54/128 (42.1875%)\n",
      "\n"
     ]
    }
   ],
   "source": [
    "print_results(faces_ii_training, non_faces_ii_training, faces_ii_testing, non_faces_ii_training, \n",
    "              classifiers)"
   ]
  },
  {
   "cell_type": "markdown",
   "metadata": {},
   "source": [
    "**7) Make another test with 20 classifiers instead of 2**\n",
    "\n",
    "Inspect the classification results if you use adaboost with 20 classifiers. Use the same hyperameters for the features.\n",
    "Print the results as in the previous exercise:\n",
    "\n",
    "```\n",
    "train results:\n",
    "Correctly identified Faces: 2256/2429  (92.87772745986003%)\n",
    "Correctly identified non-Faces: 7046/8548  (82.42863827795975%)\n",
    "\n",
    "test results:\n",
    "Correctly identified Faces: 285/472  (60.381355932203384%)\n",
    "Correctly identified non-Faces: 104/128  (81.25%)\n",
    "```\n",
    "\n",
    "- Do the classification results improved in the train data?\n",
    "\n"
   ]
  },
  {
   "cell_type": "code",
   "execution_count": 27,
   "metadata": {},
   "outputs": [],
   "source": [
    "num_classifiers = 20\n",
    "min_feature_height = 8\n",
    "max_feature_height = 10\n",
    "min_feature_width = 8\n",
    "max_feature_width = 10"
   ]
  },
  {
   "cell_type": "markdown",
   "metadata": {},
   "source": [
    "### Aprox. wall time:   10 minutes"
   ]
  },
  {
   "cell_type": "code",
   "execution_count": 28,
   "metadata": {},
   "outputs": [
    {
     "name": "stdout",
     "output_type": "stream",
     "text": [
      "Creating Haar-like features..\n",
      "\t2496 features created.\n",
      "\tTime needed for calculating Harr-like features: 0.0039844512939453125\n",
      "Calculating scores for images..\n",
      "\tTime needed for calculating scores: 172.37856197357178\n",
      "Selecting classifiers..\n",
      "\tTime needed for Selecting Classifiers: 394.9684817790985 \n",
      "\n",
      "Wall time: 9min 27s\n"
     ]
    }
   ],
   "source": [
    "%%time\n",
    "\"\"\"\n",
    "faces_ii_training = load_images(pos_training_path)\n",
    "faces_ii_testing = load_images(pos_testing_path)\n",
    "non_faces_ii_training = load_images(neg_training_path)\n",
    "non_faces_ii_testing = load_images(neg_testing_path)\n",
    "\"\"\"\n",
    "classifiers20 =  learn(faces_ii_training, non_faces_ii_training, num_classifiers=num_classifiers, \n",
    "                     min_feature_width=min_feature_width, max_feature_width=max_feature_width, \n",
    "                     min_feature_height=min_feature_height, max_feature_height=max_feature_height)"
   ]
  },
  {
   "cell_type": "code",
   "execution_count": 63,
   "metadata": {},
   "outputs": [
    {
     "name": "stdout",
     "output_type": "stream",
     "text": [
      "train results:\n",
      "Correctly identified Faces: 2198/2429 (90.48991354466858%)\n",
      "Correctly identified non-Faces: 1400/8548 (16.378100140383715%)\n",
      "\n",
      "test results:\n",
      "Correctly identified Faces: 272/472 (57.6271186440678%)\n",
      "Correctly identified non-Faces: 21/128 (16.40625%)\n",
      "\n"
     ]
    }
   ],
   "source": [
    "print_results(faces_ii_training, non_faces_ii_training, faces_ii_testing, non_faces_ii_training, \n",
    "              classifiers20)"
   ]
  },
  {
   "cell_type": "markdown",
   "metadata": {},
   "source": [
    "**8) Change the voting functions so that you can set a threshold for deciding a prediction**\n",
    "\n",
    "The threshold value indicates the minimum score for assigning a \"positive\" label (detect a face).\n",
    "\n",
    "Create the following functions\n",
    "\n",
    "- `ensemble_vote_t`: returns the final decision of a list of classifiers for a given threshold.\n",
    "- `ensemble_vote_all_t`: Iterates over a list of integral images and returns the  final decision of a list of classifiers for each of the images (for a given threshold).\n",
    "\n",
    "\n",
    "\n",
    "compute the following:\n",
    "\n",
    "- a) number of correct faces over all faces (in the train data)\n",
    "- b) number of correct non faces over all non faces (in the train data)\n",
    "- c) number of correct faces over all faces (in the test data)\n",
    "- d) number of correct non faces over all non faces (in the test data)\n",
    "\n",
    "Using the list of 20 classifiers.\n",
    "\n",
    "\n",
    "The quantities have to be computed for each of the following thresholds:\n",
    "\n",
    "```\n",
    "thresholds = np.array([x for x in range(-5,5,1)])/10.\n",
    "```\n",
    "\n",
    "- Make a bar bar plot for a) b) c) and d). In the x axis write the threshold value. \n",
    "\n",
    "- What happens when you increase the threshold value ?"
   ]
  },
  {
   "cell_type": "code",
   "execution_count": 77,
   "metadata": {},
   "outputs": [],
   "source": [
    "def ensemble_vote_t(int_img, classifiers, threshold):\n",
    "    \n",
    "    # Recover all votes from all classifiers.\n",
    "    votes = [i.get_vote(int_img) > threshold for i in classifiers]\n",
    "    \n",
    "    # As before, the vote is based on the majority of votes\n",
    "    return np.sum(votes)/len(votes) > 0.5\n",
    "\n",
    "def ensemble_vote_all_t(int_imgs, classifiers, threshold):\n",
    "    \n",
    "    # Votes for all images.\n",
    "    return [ensemble_vote_t(i, classifiers, threshold) for i in int_imgs]"
   ]
  },
  {
   "cell_type": "code",
   "execution_count": 67,
   "metadata": {},
   "outputs": [],
   "source": [
    "thresholds = np.array([x for x in range(-5,5,1)])/10."
   ]
  },
  {
   "cell_type": "code",
   "execution_count": 167,
   "metadata": {},
   "outputs": [],
   "source": [
    "def plot_results(ftrain, nftrain, ftst, nftst, thresholds):\n",
    "    \n",
    "    # Plot the results as specified on the exercise.\n",
    "    \n",
    "    n_ftrain, n_nftrain, n_ftst, n_nftst = len(ftrain), len(nftrain), len(ftst), len(nftst)\n",
    "    \n",
    "    print(\"Results for thresholds: {}\\nLegend:\".format(thresholds))\n",
    "    print(\"\\ta) Correct faces over all faces - train\")\n",
    "    print(\"\\tb) Correct !faces over all non faces - train\")\n",
    "    print(\"\\tc) Correct faces over all faces - test\")\n",
    "    print(\"\\td) Correct !faces over all non faces - test\")\n",
    "    \n",
    "    # Correct faces over all faces - train\n",
    "    a = [np.sum(ftrain[i])/len(ftrain[i]) for i in range(n_nftrain)]\n",
    "    # Correct !faces over all non faces - train\n",
    "    b = [(len(nftrain[i]) - np.sum(nftrain[i]))/len(nftrain[i]) for i in range(n_nftrain)]\n",
    "    # Correct faces over all faces - test\n",
    "    c = [np.sum(ftst[i])/len(ftst[i]) for i in range(n_nftrain)]\n",
    "    # Correct !faces over all non faces - test\n",
    "    d = [(len(nftst[i]) - np.sum(nftst[i]))/len(nftst[i]) for i in range(n_nftrain)]\n",
    "    \n",
    "    # Plot values\n",
    "    pa, = plt.plot(thresholds, a, label=\"a\")\n",
    "    pb, = plt.plot(thresholds, b, label=\"b\")\n",
    "    pc, = plt.plot(thresholds, c, label=\"c\")\n",
    "    pd, = plt.plot(thresholds, d, label=\"d\")\n",
    "    \n",
    "    # Set title, label for x axis and its values and show the legend.\n",
    "    plt.title(\"Results\")\n",
    "    plt.xlabel(\"Thresholds\")\n",
    "    plt.xticks(thresholds)\n",
    "    plt.legend(handles=[pa, pb, pc, pd], fontsize='small', fancybox=True,  loc='best')\n",
    "    \n",
    "    plt.show()"
   ]
  },
  {
   "cell_type": "code",
   "execution_count": 78,
   "metadata": {},
   "outputs": [],
   "source": [
    "correct_faces_train_t = [ensemble_vote_all_t(faces_ii_training, classifiers20, t) for t in thresholds]\n",
    "correct_non_faces_train_t = [ensemble_vote_all_t(non_faces_ii_training, classifiers20, t) for t in thresholds]\n",
    "correct_faces_test_t = [ensemble_vote_all_t(faces_ii_testing, classifiers20, t) for t in thresholds]\n",
    "correct_non_faces_test_t = [ensemble_vote_all_t(non_faces_ii_testing, classifiers20, t) for t in thresholds]"
   ]
  },
  {
   "cell_type": "code",
   "execution_count": 160,
   "metadata": {},
   "outputs": [
    {
     "name": "stdout",
     "output_type": "stream",
     "text": [
      "Results for thresholds: [-0.5 -0.4 -0.3 -0.2 -0.1  0.   0.1  0.2  0.3  0.4]\n",
      "Legend:\n",
      "\ta) Correct faces over all faces - train\n",
      "\tb) Correct !faces over all non faces - train\n",
      "\tc) Correct faces over all faces - test\n",
      "\td) Correct !faces over all non faces - test\n"
     ]
    },
    {
     "data": {
      "image/png": "[encoded data removed]",
      "text/plain": [
       "<Figure size 432x288 with 1 Axes>"
      ]
     },
     "metadata": {
      "needs_background": "light"
     },
     "output_type": "display_data"
    }
   ],
   "source": [
    "plot_results(correct_faces_train_t, correct_non_faces_train_t, correct_faces_test_t, \n",
    "             correct_non_faces_test_t, thresholds)"
   ]
  },
  {
   "cell_type": "code",
   "execution_count": 162,
   "metadata": {},
   "outputs": [
    {
     "name": "stdout",
     "output_type": "stream",
     "text": [
      "Results for thresholds: [-10.  -8.  -6.  -4.  -2.   0.   2.   4.   6.   8.]\n",
      "Legend:\n",
      "\ta) Correct faces over all faces - train\n",
      "\tb) Correct !faces over all non faces - train\n",
      "\tc) Correct faces over all faces - test\n",
      "\td) Correct !faces over all non faces - test\n"
     ]
    },
    {
     "data": {
      "image/png": "[encoded data removed]",
      "text/plain": [
       "<Figure size 432x288 with 1 Axes>"
      ]
     },
     "metadata": {
      "needs_background": "light"
     },
     "output_type": "display_data"
    }
   ],
   "source": [
    "th = thresholds*20\n",
    "\n",
    "correct_faces_train_t2 = [ensemble_vote_all_t(faces_ii_training, classifiers20, t) for t in th]\n",
    "correct_non_faces_train_t2 = [ensemble_vote_all_t(non_faces_ii_training, classifiers20, t) for t in th]\n",
    "correct_faces_test_t2 = [ensemble_vote_all_t(faces_ii_testing, classifiers20, t) for t in th]\n",
    "correct_non_faces_test_t2 = [ensemble_vote_all_t(non_faces_ii_testing, classifiers20, t) for t in th]\n",
    "\n",
    "plot_results(correct_faces_train_t2, correct_non_faces_train_t2, correct_faces_test_t2, \n",
    "             correct_non_faces_test_t2, th)"
   ]
  },
  {
   "cell_type": "markdown",
   "metadata": {},
   "source": [
    "**Answer:** Augmenting the thresholds has resulted in outrageous and not representative results. To achieve better results (better accuracy), low thresholds."
   ]
  }
 ],
 "metadata": {
  "kernelspec": {
   "display_name": "Python 3",
   "language": "python",
   "name": "python3"
  },
  "language_info": {
   "codemirror_mode": {
    "name": "ipython",
    "version": 3
   },
   "file_extension": ".py",
   "mimetype": "text/x-python",
   "name": "python",
   "nbconvert_exporter": "python",
   "pygments_lexer": "ipython3",
   "version": "3.7.1"
  }
 },
 "nbformat": 4,
 "nbformat_minor": 1
}
